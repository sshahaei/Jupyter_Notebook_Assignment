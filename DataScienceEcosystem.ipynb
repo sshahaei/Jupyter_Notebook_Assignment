{
 "cells": [
  {
   "cell_type": "markdown",
   "id": "98a45459-0130-4315-81ce-a00b982a6ed6",
   "metadata": {
    "tags": []
   },
   "source": [
    "<h1 style=\"color:beige\"> Data Science </h1>"
   ]
  },
  {
   "cell_type": "markdown",
   "id": "6654092c-7a93-4fad-b984-bff0ae6f1e02",
   "metadata": {},
   "source": [
    "This notebook will summarize Data Science Tools and Ecosystem."
   ]
  },
  {
   "cell_type": "markdown",
   "id": "af8fae54-1ae6-40cf-9740-a30cd2470d21",
   "metadata": {},
   "source": [
    "Some of the primary languages used by Data Scientists include: <ol style=\"color:maroon\"><li>Python</li> <li>JavaScript</li><li>SQL</li></ol> \n",
    "    "
   ]
  },
  {
   "cell_type": "markdown",
   "id": "97a6b745-df7b-4cd0-807f-0f0ab955287a",
   "metadata": {},
   "source": [
    "Some of the commonly used libraries by Data Scientists are:\n",
    "<ol style=\"color:cyan\n",
    "           \"><li>Pandas</li><li>NumPy</li><li>TensorFlow</li></ol>"
   ]
  },
  {
   "cell_type": "markdown",
   "id": "4109d7d7-1db0-41b9-bca8-8101e634ac2c",
   "metadata": {},
   "source": [
    "<table style=\"border: 1px solid black; text-align:center\">\n",
    "    <tr><th>\n",
    "        Data Science Tools\n",
    "        </th></tr>\n",
    "    <tr><td>Pandas</td></tr>\n",
    "    <tr><td>Scrapy</td></tr>\n",
    "    <tr><td>Weka</td></tr>\n",
    "    <tr><td>Hadoop</td></tr>\n",
    "</table>"
   ]
  },
  {
   "cell_type": "markdown",
   "id": "f23e4305-0bc2-4887-b457-ebef819a9029",
   "metadata": {},
   "source": [
    "<h3>Below are a few examples of evaluating arithmetic expressions in Python</h3>"
   ]
  },
  {
   "cell_type": "code",
   "execution_count": 1,
   "id": "a8982757-8994-4cb9-b6e6-56cc4fd74be8",
   "metadata": {
    "tags": []
   },
   "outputs": [
    {
     "data": {
      "text/plain": [
       "17"
      ]
     },
     "execution_count": 1,
     "metadata": {},
     "output_type": "execute_result"
    }
   ],
   "source": [
    "# This is a simple arithmetic expression to multiply, then add integers. \n",
    "(3*4) + 5"
   ]
  },
  {
   "cell_type": "code",
   "execution_count": 2,
   "id": "055e285d-b5f6-46cf-bb9a-0f4e11ad024d",
   "metadata": {
    "tags": []
   },
   "outputs": [
    {
     "data": {
      "text/plain": [
       "3.3333333333333335"
      ]
     },
     "execution_count": 2,
     "metadata": {},
     "output_type": "execute_result"
    }
   ],
   "source": [
    "# This will convert 200 minutes to hours, by diving by a factor of 60.\n",
    "200/60"
   ]
  },
  {
   "cell_type": "markdown",
   "id": "baa3dfb0-3f0b-4d33-9679-dbb71f8b28e1",
   "metadata": {},
   "source": [
    "<strong>Objectives:</strong><ul><li>List popular languages used in Data Science</li><li>List popular libraries used in Data Science</li><li>List the primary tools used in Data Science</li></ul>"
   ]
  },
  {
   "cell_type": "markdown",
   "id": "e81c4d21-9c63-4aab-9c77-3faf8035e6af",
   "metadata": {},
   "source": [
    "<h2>Author</h2> Shayan S\n"
   ]
  },
  {
   "cell_type": "code",
   "execution_count": null,
   "id": "01b2fa53-e0e5-4ac4-a10b-0c0f3e7a6462",
   "metadata": {},
   "outputs": [],
   "source": []
  }
 ],
 "metadata": {
  "kernelspec": {
   "display_name": "Python",
   "language": "python",
   "name": "conda-env-python-py"
  },
  "language_info": {
   "codemirror_mode": {
    "name": "ipython",
    "version": 3
   },
   "file_extension": ".py",
   "mimetype": "text/x-python",
   "name": "python",
   "nbconvert_exporter": "python",
   "pygments_lexer": "ipython3",
   "version": "3.7.12"
  }
 },
 "nbformat": 4,
 "nbformat_minor": 5
}
